{
 "cells": [
  {
   "cell_type": "markdown",
   "metadata": {},
   "source": [
    "# Prepare data for modelling"
   ]
  },
  {
   "cell_type": "code",
   "execution_count": 2,
   "metadata": {},
   "outputs": [],
   "source": [
    "#import libraries\n",
    "import numpy as np\n",
    "import pandas as pd"
   ]
  },
  {
   "cell_type": "code",
   "execution_count": 3,
   "metadata": {},
   "outputs": [],
   "source": [
    "## importing data\n",
    "\n",
    "train = pd.read_csv(\"./../data/1_interim/train.csv\")\n",
    "test =  pd.read_csv(\"./../data/1_interim/train.csv\")"
   ]
  },
  {
   "cell_type": "code",
   "execution_count": 12,
   "metadata": {},
   "outputs": [],
   "source": [
    "qual_mapping = {1: \"highschool\",\n",
    "                38:\"pre highschool\",\n",
    "                37:\"pre highschool\",\n",
    "                19:\"highschool\",\n",
    "                11:\"pre highschool\",\n",
    "                3:\"graduate\",\n",
    "                2:\"graduate\",\n",
    "                34:\"unknown\",\n",
    "                4:\"masters\",\n",
    "                27:\"pre highschool\", \n",
    "                12:\"unknown\",\n",
    "                39:\"graduate\",\n",
    "                42:\"masters\",\n",
    "                5:\"masters\",\n",
    "                40:\"graduate\",\n",
    "                6:\"unknown\",\n",
    "                36:\"less than 4\",\n",
    "                44:\"masters\", \n",
    "                41:\"graduate\", \n",
    "                29:\"pre highschool\", \n",
    "                30:\"pre highschool\",  \n",
    "                9:\"highschool\", \n",
    "                10:\"highschool\", \n",
    "                35:\"less than 4\", \n",
    "                14:\"highschool\", \n",
    "                43:\"masters\", \n",
    "                26:\"pre highschool\", \n",
    "                25:\"pre highschool\", \n",
    "                18:\"graduate\", \n",
    "                22:\"masters\", \n",
    "                31:\"graduate\", \n",
    "                20:\"highschool\"}\n",
    "\n",
    "occ_mapping = {0: \"student\",\n",
    "                1: \"managerial\",\n",
    "                2: \"professional\",\n",
    "                3: \"technical\",\n",
    "                4: \"professional\",\n",
    "                5: \"service\",\n",
    "                6: \"agriculture\",\n",
    "                7: \"craftsmen\",\n",
    "                8: \"factory\",\n",
    "                9: \"elementary\",\n",
    "                10: \"armed forces\",\n",
    "                90: \"unknown\",\n",
    "                99: \"unknown\",\n",
    "                101: \"armed forces\",\n",
    "                102: \"armed forces\",\n",
    "                103: \"armed forces\",\n",
    "                112: \"managerial\",\n",
    "                114: \"managerial\",\n",
    "                121: \"professional\",\n",
    "                122: \"professional\",\n",
    "                123: \"professional\",\n",
    "                124: \"professional\",\n",
    "                125: \"professional\",\n",
    "                131: \"technical\",\n",
    "                132: \"technical\",\n",
    "                134: \"technical\",\n",
    "                135: \"technical\",\n",
    "                141: \"clerical\",\n",
    "                143: \"technical\",\n",
    "                144: \"clerical\",\n",
    "                151: \"service\",\n",
    "                152: \"service\",\n",
    "                153: \"service\",\n",
    "                154: \"service\",\n",
    "                161: \"agriculture\",\n",
    "                163: \"agriculture\",\n",
    "                171: \"craftsmen\",\n",
    "                172: \"craftsmen\",\n",
    "                173: \"craftsmen\",\n",
    "                174: \"craftsmen\",\n",
    "                175: \"craftsmen\",\n",
    "                181: \"factory\",\n",
    "                182: \"factory\",\n",
    "                183: \"factory\",\n",
    "                191: \"elementary\",\n",
    "                192: \"elementary\",\n",
    "                193: \"elementary\",\n",
    "                194: \"elementary\",\n",
    "                195: \"elementary\"}\n"
   ]
  },
  {
   "cell_type": "code",
   "execution_count": 13,
   "metadata": {},
   "outputs": [],
   "source": [
    "train[\"father_occ\"] = train[\"Father\\'s occupation\"].map(occ_mapping)\n",
    "train[\"mother_occ\"] = train[\"Mother\\'s occupation\"].map(occ_mapping)\n",
    "\n",
    "train[\"father_qual\"] = train[\"Father\\'s qualification\"].map(qual_mapping)\n",
    "train[\"mother_qual\"] = train[\"Mother\\'s qualification\"].map(qual_mapping)"
   ]
  },
  {
   "cell_type": "code",
   "execution_count": 14,
   "metadata": {},
   "outputs": [],
   "source": [
    "test[\"father_occ\"] = test[\"Father\\'s occupation\"].map(occ_mapping)\n",
    "test[\"mother_occ\"] = test[\"Mother\\'s occupation\"].map(occ_mapping)\n",
    "\n",
    "test[\"father_qual\"] = test[\"Father\\'s qualification\"].map(qual_mapping)\n",
    "test[\"mother_qual\"] = test[\"Mother\\'s qualification\"].map(qual_mapping)"
   ]
  },
  {
   "cell_type": "code",
   "execution_count": 17,
   "metadata": {},
   "outputs": [],
   "source": [
    "train.to_csv(\"./../data/2_final/train.csv\")\n",
    "test.to_csv(\"./../data/2_final/test.csv\")"
   ]
  },
  {
   "cell_type": "code",
   "execution_count": null,
   "metadata": {},
   "outputs": [],
   "source": []
  }
 ],
 "metadata": {
  "kernelspec": {
   "display_name": "Python 3.10.6 ('enrollment_status-GIwTUEgK')",
   "language": "python",
   "name": "python3"
  },
  "language_info": {
   "codemirror_mode": {
    "name": "ipython",
    "version": 3
   },
   "file_extension": ".py",
   "mimetype": "text/x-python",
   "name": "python",
   "nbconvert_exporter": "python",
   "pygments_lexer": "ipython3",
   "version": "3.10.6"
  },
  "orig_nbformat": 4,
  "vscode": {
   "interpreter": {
    "hash": "f2c67dafd3bf9acabbcfc6d51a289182b18a875d56cd45c8d86c7adfeab89ed9"
   }
  }
 },
 "nbformat": 4,
 "nbformat_minor": 2
}
